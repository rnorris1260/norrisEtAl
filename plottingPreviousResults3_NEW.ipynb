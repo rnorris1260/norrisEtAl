{
 "cells": [
  {
   "cell_type": "markdown",
   "id": "4b5f1270",
   "metadata": {},
   "source": [
    "# Compare existing results\n",
    "\n",
    "This sheet enables you to compare results that have already been generated. It includes functions to plot cell number in each generation for each condition, along with plots that indicate whether a combination of effects is greater than expected if they were additive."
   ]
  },
  {
   "cell_type": "code",
   "execution_count": null,
   "id": "2755720c",
   "metadata": {},
   "outputs": [],
   "source": [
    "using Plots \n",
    "using CSV\n",
    "using Tables\n",
    "using DataFrames\n",
    "plotly()"
   ]
  },
  {
   "cell_type": "code",
   "execution_count": null,
   "id": "262d17a8",
   "metadata": {
    "scrolled": true
   },
   "outputs": [],
   "source": [
    "maxGens=8 # maximum number of gens in total\n",
    "global maxTimeTC=float(60*120) # how long should the entire simulation run"
   ]
  },
  {
   "cell_type": "code",
   "execution_count": null,
   "id": "21ea312b",
   "metadata": {
    "scrolled": true
   },
   "outputs": [],
   "source": [
    "#### Load patient data\n",
    "patient_data = DataFrame(CSV.File(\"patientData.csv\"))\n",
    "patient_data = patient_data[completecases(patient_data), :]\n",
    "patient_data = subset(patient_data, :TYPE => ByRow(==(\"CNA\")))"
   ]
  },
  {
   "cell_type": "code",
   "execution_count": null,
   "id": "1c36b246",
   "metadata": {},
   "outputs": [],
   "source": [
    "patients = unique(patient_data[!, :PATIENT])"
   ]
  },
  {
   "cell_type": "code",
   "execution_count": null,
   "id": "633bc615",
   "metadata": {},
   "outputs": [],
   "source": [
    "cA=palette(:seaborn_colorblind)"
   ]
  },
  {
   "cell_type": "code",
   "execution_count": null,
   "id": "d4f733a9",
   "metadata": {},
   "outputs": [],
   "source": [
    "#### Mut/Param data\n",
    "muts2Params = DataFrame(CSV.File(\"muts2ParamsNEW.csv\"))\n",
    "# concatenate gene and alteration\n",
    "muts2Params[!, \"GeneAlt\"] = string.(muts2Params[!, \"GENE\"], \":\", muts2Params[!, \"ALTERATION\"])\n",
    "## remove zeros\n",
    "muts2Params = muts2Params[(muts2Params.PARAMETER .!= \"0\"), :];"
   ]
  },
  {
   "cell_type": "code",
   "execution_count": null,
   "id": "02f277b5",
   "metadata": {},
   "outputs": [],
   "source": [
    "#### Load combined output data\n",
    "CombOp = DataFrame(CSV.File(\"combinedOutput2_noDupes.csv\"))\n",
    "# remove missing data\n",
    "CombOp = CombOp[completecases(CombOp), :]\n",
    "# concatenate gene and alteration\n",
    "CombOp[!, \"GeneAlt\"] = string.(CombOp[!, \"GENE\"], \":\", CombOp[!, \"ALTERATION\"]);"
   ]
  },
  {
   "cell_type": "code",
   "execution_count": null,
   "id": "3be27b37",
   "metadata": {},
   "outputs": [],
   "source": [
    "function GenConds(muts)\n",
    "    Conds = DataFrame(Param = Any[], Val = Float64[])\n",
    "        for i in 1:length(muts)        \n",
    "            # check genes are in dictionary\n",
    "            if haskey(param_mut, muts[i]) == true\n",
    "                mut=muts[i]\n",
    "                val=param_vals[mut]\n",
    "                param=param_mut[mut]\n",
    "                ParamVal = DataFrame(Param=param, Val=val)\n",
    "                append!(Conds, ParamVal)\n",
    "            else \n",
    "                continue\n",
    "            end\n",
    "        end\n",
    "    return(Conds)\n",
    "end"
   ]
  },
  {
   "cell_type": "code",
   "execution_count": null,
   "id": "6ff640dd",
   "metadata": {},
   "outputs": [],
   "source": [
    "function GenConds2(muts_count)\n",
    "    p2C=[]\n",
    "    mA=[]\n",
    "    for i in 1:nrow(muts_count)\n",
    "        param=muts_count[i,1]\n",
    "        push!(p2C, param)\n",
    "        val=muts_count[i,2]\n",
    "        NUM=muts_count[i,3]\n",
    "        PV=val^NUM\n",
    "        push!(mA, PV)\n",
    "    end\n",
    "    return(p2C, mA)\n",
    "end        "
   ]
  },
  {
   "cell_type": "code",
   "execution_count": null,
   "id": "61df94e7",
   "metadata": {},
   "outputs": [],
   "source": [
    "# create mut dictionary\n",
    "param_mut=Dict() \n",
    "# populate mut dictionary\n",
    "for i in 1:nrow(muts2Params)\n",
    "    GeneAlt = muts2Params[i,:GeneAlt]\n",
    "    Param = muts2Params[i,:PARAMETER]\n",
    "    param_mut[GeneAlt]=Param\n",
    "end    "
   ]
  },
  {
   "cell_type": "code",
   "execution_count": null,
   "id": "289f7ac3",
   "metadata": {},
   "outputs": [],
   "source": [
    "# create gene:alt dictionary\n",
    "gene_alt=Dict() \n",
    "# populate mut dictionary\n",
    "for i in 1:nrow(muts2Params)\n",
    "    GeneAlt = muts2Params[i,:GeneAlt]\n",
    "    Param = muts2Params[i,:PARAMETER]\n",
    "    gene_alt[Param]=GeneAlt\n",
    "end    "
   ]
  },
  {
   "cell_type": "code",
   "execution_count": null,
   "id": "d7d63103",
   "metadata": {},
   "outputs": [],
   "source": [
    "# create vals dictionary\n",
    "param_vals=Dict()\n",
    "# populate vals dictionary\n",
    "for i in 1:nrow(muts2Params)\n",
    "    GeneAlt = muts2Params[i,:GeneAlt]\n",
    "    Val = muts2Params[i,:AMOUNT]\n",
    "    param_vals[GeneAlt]=Val\n",
    "end   "
   ]
  },
  {
   "cell_type": "code",
   "execution_count": null,
   "id": "406af819",
   "metadata": {},
   "outputs": [],
   "source": [
    "# get data for individual patient\n",
    "function getPatConds(patient)\n",
    "    patient_df = subset(CombOp, :PATIENT => ByRow(==(patient)))\n",
    "    \n",
    "    # get mutations\n",
    "    muts = Vector(patient_df[!, :GeneAlt])\n",
    "    conds = GenConds(muts)\n",
    "    muts_count = combine(groupby(conds, [:Param, :Val]), nrow => :count)\n",
    "        \n",
    "    ######################\n",
    "    ### Set conditions ###\n",
    "    ######################\n",
    "    \n",
    "    # set patient name\n",
    "    patient = patient_df[1,1]\n",
    "    \n",
    "    conditions = [\"all_mut\"]\n",
    "    \n",
    "    # get conditions\n",
    "    conds_run = GenConds2(muts_count)\n",
    "    \n",
    "    condsToPlot = Any[\"WT\"]\n",
    "    params = conds_run[1]\n",
    "    values = conds_run[2]\n",
    "    \n",
    "    for i in 1:length(conds_run[1])\n",
    "        folderName = string.(params[i], \"_\", values[i])\n",
    "        push!(condsToPlot, folderName)\n",
    "    end\n",
    "    push!(condsToPlot, patient)\n",
    "    \n",
    "    GeneAlt = Any[\"WT\"]\n",
    "    for i in 1:length(params)\n",
    "        label = gene_alt[params[i]]\n",
    "        push!(GeneAlt, label)\n",
    "    end\n",
    "    push!(GeneAlt, \"all_muts\")\n",
    "    \n",
    "    return(condsToPlot, GeneAlt)\n",
    "end"
   ]
  },
  {
   "cell_type": "code",
   "execution_count": null,
   "id": "00244a37",
   "metadata": {},
   "outputs": [],
   "source": [
    "condsToPlot1 = getPatConds(\"DLBCL-LS297\")"
   ]
  },
  {
   "cell_type": "code",
   "execution_count": null,
   "id": "9fd252ed",
   "metadata": {},
   "outputs": [],
   "source": [
    "LS297_params = condsToPlot1[2]"
   ]
  },
  {
   "cell_type": "code",
   "execution_count": null,
   "id": "b637ea45",
   "metadata": {},
   "outputs": [],
   "source": [
    "gene_alt[LS297_params[1]]"
   ]
  },
  {
   "cell_type": "code",
   "execution_count": null,
   "id": "1b910485",
   "metadata": {},
   "outputs": [],
   "source": [
    "function compareCellNumbersRelative(conditions,folderToPlot,num_mut)\n",
    "\n",
    "    p3=plot(title=\"cell number - WT cell number\",ylabel=\"cells > WT\",labels=string.([1:maxGens]),xlim=(0,maxTimeTC),xticks = (0:60*24:maxTimeTC, string.(0:24:Int64(maxTimeTC))))\n",
    "    p7=plot(title=\"cell number\",ylabel=\"cells\",labels=string.([1:maxGens]),xlim=(0,maxTimeTC),xticks = (0:60*24:maxTimeTC, string.(0:24:Int64(maxTimeTC))))\n",
    "    WTorder=nothing\n",
    "    condIndex=1\n",
    "    WTyIndexes=[]\n",
    "    thisCondScalar=0;\n",
    "    WTArrayCellCountArray=[]\n",
    "    synergyArray=[]\n",
    "    \n",
    "    if num_mut==1\n",
    "        palettes=[[cA[3],cA[8]]]\n",
    "    elseif num_mut==2\n",
    "        palettes=[[cA[1],cA[8]],[cA[2],cA[8]],[cA[4],cA[8]],[cA[3],cA[8]]]\n",
    "    elseif num_mut==3\n",
    "        palettes=[[cA[1],cA[8]],[cA[2],cA[8]],[cA[4],cA[8]],[cA[5],cA[8]],[cA[3],cA[8]]]\n",
    "    elseif num_mut==4\n",
    "        palettes=[[cA[1],cA[8]],[cA[2],cA[8]],[cA[4],cA[8]],[cA[5],cA[8]],[cA[6],cA[8]],[cA[3],:gray]]\n",
    "    elseif num_mut==5 \n",
    "        palettes=[[cA[1],cA[8]],[cA[2],cA[8]],[cA[4],cA[8]],[cA[5],cA[8]],[cA[6],cA[8]],\n",
    "                    [cA[7],cA[8]],[cA[3],cA[8]]]\n",
    "    elseif num_mut==6 \n",
    "        palettes=[[cA[1],cA[8]],[cA[2],cA[8]],[cA[4],cA[8]],[cA[5],cA[8]],[cA[6],cA[8]],\n",
    "                    [cA[7],cA[8]],[cA[10],cA[8]],[cA[3],cA[8]]]        \n",
    "    end\n",
    "        \n",
    "    for condToPlot in conditions\n",
    "\n",
    "        thisColorPalette=palette(palettes[Int64(condIndex)],Int64(maxGens))\n",
    "        crossSize=5;\n",
    "        \n",
    "        pathToPlot=folderToPlot*\"/\"*condToPlot*\"/\"\n",
    "\n",
    "        #define some files to plot\n",
    "        treeArrayFile=pathToPlot*\"treeStructure.csv\"\n",
    "        cellCountFileName=pathToPlot*\"cellCounts.csv\"\n",
    "        graphingArray=CSV.File(treeArrayFile,types=Float64, silencewarnings=true) |> Tables.matrix\n",
    "\n",
    "        cellCountArray=zeros(maxGens,Int64(maxTimeTC))\n",
    "\n",
    "\n",
    "        #first we need to sort by number of generations reached\n",
    "        order=sortperm(graphingArray[:, end])\n",
    "        if(condIndex==1)\n",
    "            WTorder=order\n",
    "            graphingArray=graphingArray[order, :]\n",
    "        else\n",
    "            graphingArray=graphingArray[WTorder, :]\n",
    "        end\n",
    "\n",
    "        nextYCoord=0\n",
    "        #now we need to go through each\n",
    "        for i in 1:size(graphingArray,1)\n",
    "            thisCellMaxGen=Int64(graphingArray[i,end])\n",
    "            cellsInThisCellMaxGen=2^(thisCellMaxGen)-1\n",
    "            #nextYCoord=nextYCoord+cellsInThisCellMaxGen\n",
    "            nextYCoord=nextYCoord+cellsInThisCellMaxGen\n",
    "            middle=nextYCoord+1+cellsInThisCellMaxGen/2\n",
    "            if(condIndex==1)\n",
    "                append!(WTyIndexes,middle+10)\n",
    "            else\n",
    "                middle=WTyIndexes[i]\n",
    "            end\n",
    "            lastGenEnd=1\n",
    "            nextGenMiddles=[]\n",
    "            for thisGen in 1:thisCellMaxGen\n",
    "                cellsInThisGen=2^(thisGen-1)\n",
    "                stepSizePerCell=cellsInThisCellMaxGen/(cellsInThisGen-1)\n",
    "                thisGenFateTime=graphingArray[i,thisGen]\n",
    "                thisGenMiddles=copy(nextGenMiddles)\n",
    "                cellCountArray[thisGen,Int64(round(lastGenEnd)):Int64(round(thisGenFateTime))-1]=cellCountArray[thisGen,Int64(round(lastGenEnd)):Int64(round(thisGenFateTime))-1].+cellsInThisGen\n",
    "                lastGenEnd=graphingArray[i,thisGen]\n",
    "            end  \n",
    "            nextYCoord=nextYCoord+maximum([cellsInThisCellMaxGen,10])\n",
    "        end\n",
    "        originalCellCountArray=copy(cellCountArray)\n",
    "        if condIndex==1\n",
    "            WTArrayCellCountArray=copy(cellCountArray)\n",
    "            #println(WTArrayCellCountArray)\n",
    "            cellCountArray.=0\n",
    "            synergyArray=zeros(length(conditions)-1,Int64(maxTimeTC))\n",
    "        else\n",
    "            cellCountArray=cellCountArray.-WTArrayCellCountArray\n",
    "        end\n",
    "        totalCountForPlotting=sum(originalCellCountArray,dims=1)\n",
    "        totalCount=sum(cellCountArray,dims=1)\n",
    "        if condIndex>1\n",
    "           synergyArray[condIndex-1,:]=totalCount\n",
    "        end\n",
    "        generationArray=zeros(maxGens,size(cellCountArray,2))\n",
    "        for thisGen in 1:maxGens\n",
    "            thisGenCells=zeros(size(cellCountArray))\n",
    "            thisGenCounts=cellCountArray[thisGen,:]\n",
    "            for addingGen in thisGen:maxGens\n",
    "                generationArray[addingGen,:]=generationArray[addingGen,:]+thisGenCounts\n",
    "            end\n",
    "            #comment out this line if you don't want individual generations to be plotted\n",
    "            #plot!(p3,1:maxTimeTC,generationArray[thisGen,:][1:Int64(maxTimeTC)],linecolor = thisColorPalette[thisGen],label=false)\n",
    "        end\n",
    "        plot!(p3,[1:maxTimeTC],totalCount',linecolor =thisColorPalette[1], linealpha=0.75 ,label=condToPlot,linewidth=3)\n",
    "        plot!(p7,[1:maxTimeTC],totalCountForPlotting',linecolor =thisColorPalette[1], linealpha=0.75,label=condToPlot,linewidth=3)\n",
    "\n",
    "        \n",
    "        #println(totalCount)\n",
    "        #println(condToPlot)\n",
    "        plot!(p3,legend = true,size=(900,400),layout = grid(3, 1,heights=[0.8,0.1,0.1]))\n",
    "        #display(thisPlot)\n",
    "        plot!(p7,legend = true,size=(900,400),layout = grid(3, 1,heights=[0.8,0.1,0.1]))\n",
    "\n",
    "        condIndex=condIndex+1\n",
    "        \n",
    "    end\n",
    "    \n",
    "    expectedIfAdditive=sum(synergyArray[1:end-1,:],dims=1)\n",
    "\n",
    "    actualResult=synergyArray[end,:]'\n",
    "\n",
    "    lower=minimum(vcat(actualResult,expectedIfAdditive),dims=1)\n",
    "    upper=maximum(vcat(actualResult,expectedIfAdditive),dims=1)\n",
    "    actualResult=actualResult'\n",
    "    lower=lower'\n",
    "    upper=upper'\n",
    "    p5=plot([1:maxTimeTC], [actualResult actualResult], fillrange=[lower upper], fillalpha=0.35, c = [:red :blue], label = [\"> additive (synergistic)\" \"<= additive\"], legend = :topleft)\n",
    "    plot!(p5,size=(900,400),layout = grid(3, 1,heights=[0.8,0.1,0.1]),title=\"expected if additive vs actual combo\",ylabel=\"cell number over WT\",labels=string.([1:maxGens]),xlim=(0,maxTimeTC),xticks = (0:60*24:maxTimeTC, string.(0:24:Int64(maxTimeTC))))\n",
    "    differenceFromExpected=actualResult.-expectedIfAdditive\n",
    "    p6=plot([1:maxTimeTC], differenceFromExpected)\n",
    "    plot!(p6,size=(900,400),layout = grid(3, 1,heights=[0.8,0.1,0.1]),title=\"[actual combo] - [additive prediction]\",ylabel=\"cell number over WT\",xlabel=\"time (h)\",labels=string.([1:maxGens]),xlim=(0,maxTimeTC),xticks = (0:60*24:maxTimeTC, string.(0:24:Int64(maxTimeTC))),legend=true)\n",
    "    thisPlot=plot(p7,size=(900,600),layout = grid(2, 1,heights=[0.5,0.5]))\n",
    "    display(thisPlot)\n",
    "end"
   ]
  },
  {
   "cell_type": "code",
   "execution_count": null,
   "id": "73f629d2",
   "metadata": {},
   "outputs": [],
   "source": [
    "function compareCellNumbersRelative2(patient)\n",
    "\n",
    "    p3=plot(title=\"cell number - WT cell number\",ylabel=\"cells > WT\",labels=string.([1:maxGens]),xlim=(0,maxTimeTC),xticks = (0:60*24:maxTimeTC, string.(0:24:Int64(maxTimeTC))))\n",
    "    p7=plot(title=\"cell number\",ylabel=\"cells\",labels=string.([1:maxGens]),xlim=(0,maxTimeTC),xticks = (0:60*24:maxTimeTC, string.(0:24:Int64(maxTimeTC))))\n",
    "    WTorder=nothing\n",
    "    condIndex=1\n",
    "    WTyIndexes=[]\n",
    "    thisCondScalar=0;\n",
    "    WTArrayCellCountArray=[]\n",
    "    synergyArray=[]\n",
    "    \n",
    "    condsToPlot = getPatConds(patient)[1]\n",
    "    labels = getPatConds(patient)[2]\n",
    "    num_mut = length(condsToPlot)-2\n",
    "    \n",
    "    if num_mut==1\n",
    "        palettes=[[cA[3],cA[8]]]\n",
    "    elseif num_mut==2\n",
    "        palettes=[[cA[1],cA[8]],[cA[2],cA[8]],[cA[4],cA[8]],[cA[3],cA[8]]]\n",
    "    elseif num_mut==3\n",
    "        palettes=[[cA[1],cA[8]],[cA[2],cA[8]],[cA[4],cA[8]],[cA[5],cA[8]],[cA[3],cA[8]]]\n",
    "    elseif num_mut==4\n",
    "        palettes=[[cA[1],cA[8]],[cA[2],cA[8]],[cA[4],cA[8]],[cA[5],cA[8]],[cA[6],cA[8]],[cA[3],:gray]]\n",
    "    elseif num_mut==5 \n",
    "        palettes=[[cA[1],cA[8]],[cA[2],cA[8]],[cA[4],cA[8]],[cA[5],cA[8]],[cA[6],cA[8]],\n",
    "                    [cA[7],cA[8]],[cA[3],cA[8]]]\n",
    "    elseif num_mut==6 \n",
    "        palettes=[[cA[1],cA[8]],[cA[2],cA[8]],[cA[4],cA[8]],[cA[5],cA[8]],[cA[6],cA[8]],\n",
    "                    [cA[7],cA[8]],[cA[10],cA[8]],[cA[3],cA[8]]]        \n",
    "    end\n",
    "        \n",
    "    for condToPlot in 1:length(condsToPlot)\n",
    "\n",
    "        thisColorPalette=palette(palettes[Int64(condIndex)],Int64(maxGens))\n",
    "        crossSize=5;\n",
    "        \n",
    "        if condsToPlot[condToPlot]==\"WT\"\n",
    "            pathToPlot=\"SSDoutputs/allMutSims/WT/\"\n",
    "        elseif condsToPlot[condToPlot]==patient\n",
    "            pathToPlot=\"SSDoutputs/allMutSims/\"*patient*\"/all_mut/\"\n",
    "        else pathToPlot=\"SSDoutputs/allMutSims/\"*condsToPlot[condToPlot]*\"/mut/\"\n",
    "        end\n",
    "            \n",
    "        #define some files to plot\n",
    "        treeArrayFile=pathToPlot*\"treeStructure.csv\"\n",
    "        cellCountFileName=pathToPlot*\"cellCounts.csv\"\n",
    "        graphingArray=CSV.File(treeArrayFile,types=Float64, silencewarnings=true) |> Tables.matrix\n",
    "\n",
    "        cellCountArray=zeros(maxGens,Int64(maxTimeTC))\n",
    "\n",
    "\n",
    "        #first we need to sort by number of generations reached\n",
    "        order=sortperm(graphingArray[:, end])\n",
    "        if(condIndex==1)\n",
    "            WTorder=order\n",
    "            graphingArray=graphingArray[order, :]\n",
    "        else\n",
    "            graphingArray=graphingArray[WTorder, :]\n",
    "        end\n",
    "\n",
    "        nextYCoord=0\n",
    "        #now we need to go through each\n",
    "        for i in 1:size(graphingArray,1)\n",
    "            thisCellMaxGen=Int64(graphingArray[i,end])\n",
    "            cellsInThisCellMaxGen=2^(thisCellMaxGen)-1\n",
    "            nextYCoord=nextYCoord+cellsInThisCellMaxGen\n",
    "            middle=nextYCoord+1+cellsInThisCellMaxGen/2\n",
    "            if(condIndex==1)\n",
    "                append!(WTyIndexes,middle+10)\n",
    "            else\n",
    "                middle=WTyIndexes[i]\n",
    "            end\n",
    "            lastGenEnd=1\n",
    "            nextGenMiddles=[]\n",
    "            for thisGen in 1:thisCellMaxGen\n",
    "                cellsInThisGen=2^(thisGen-1)\n",
    "                stepSizePerCell=cellsInThisCellMaxGen/(cellsInThisGen-1)\n",
    "                thisGenFateTime=graphingArray[i,thisGen]\n",
    "                thisGenMiddles=copy(nextGenMiddles)\n",
    "                cellCountArray[thisGen,Int64(round(lastGenEnd)):Int64(round(thisGenFateTime))-1]=cellCountArray[thisGen,Int64(round(lastGenEnd)):Int64(round(thisGenFateTime))-1].+cellsInThisGen\n",
    "                lastGenEnd=graphingArray[i,thisGen]\n",
    "            end  \n",
    "            nextYCoord=nextYCoord+maximum([cellsInThisCellMaxGen,10])\n",
    "        end\n",
    "        originalCellCountArray=copy(cellCountArray)\n",
    "        if condIndex==1\n",
    "            WTArrayCellCountArray=copy(cellCountArray)\n",
    "            #println(WTArrayCellCountArray)\n",
    "            cellCountArray.=0\n",
    "            synergyArray=zeros(length(condsToPlot)-1,Int64(maxTimeTC))\n",
    "        else\n",
    "            cellCountArray=cellCountArray.-WTArrayCellCountArray\n",
    "        end\n",
    "        totalCountForPlotting=sum(originalCellCountArray,dims=1)\n",
    "        totalCount=sum(cellCountArray,dims=1)\n",
    "        if condIndex>1\n",
    "           synergyArray[condIndex-1,:]=totalCount\n",
    "        end\n",
    "        generationArray=zeros(maxGens,size(cellCountArray,2))\n",
    "        for thisGen in 1:maxGens\n",
    "            thisGenCells=zeros(size(cellCountArray))\n",
    "            thisGenCounts=cellCountArray[thisGen,:]\n",
    "            for addingGen in thisGen:maxGens\n",
    "                generationArray[addingGen,:]=generationArray[addingGen,:]+thisGenCounts\n",
    "            end\n",
    "            #comment out this line if you don't want individual generations to be plotted\n",
    "            #plot!(p3,1:maxTimeTC,generationArray[thisGen,:][1:Int64(maxTimeTC)],linecolor = thisColorPalette[thisGen],label=false)\n",
    "        end\n",
    "        plot!(p3,[1:maxTimeTC],totalCount',linecolor =thisColorPalette[1], linealpha=0.75 ,label=labels[condToPlot],linewidth=3)\n",
    "        plot!(p7,[1:maxTimeTC],totalCountForPlotting',linecolor =thisColorPalette[1], linealpha=0.75,label=labels[condToPlot],linewidth=3)\n",
    "\n",
    "        \n",
    "        #println(totalCount)\n",
    "        #println(condToPlot)\n",
    "        plot!(p3,legend = true,size=(900,400),layout = grid(3, 1,heights=[0.8,0.1,0.1]))\n",
    "        #display(thisPlot)\n",
    "        plot!(p7,legend = true,size=(900,400),layout = grid(3, 1,heights=[0.8,0.1,0.1]))\n",
    "\n",
    "        condIndex=condIndex+1\n",
    "        \n",
    "    end\n",
    "    \n",
    "    expectedIfAdditive=sum(synergyArray[1:end-1,:],dims=1)\n",
    "\n",
    "    actualResult=synergyArray[end,:]'\n",
    "\n",
    "    lower=minimum(vcat(actualResult,expectedIfAdditive),dims=1)\n",
    "    upper=maximum(vcat(actualResult,expectedIfAdditive),dims=1)\n",
    "    actualResult=actualResult'\n",
    "    lower=lower'\n",
    "    upper=upper'\n",
    "    p5=plot([1:maxTimeTC], [actualResult actualResult], fillrange=[lower upper], fillalpha=0.35, c = [:red :blue], label = [\"> additive (synergistic)\" \"<= additive\"], legend = :topleft)\n",
    "    plot!(p5,size=(900,400),layout = grid(3, 1,heights=[0.8,0.1,0.1]),title=\"expected if additive vs actual combo\",ylabel=\"cell number over WT\",labels=string.([1:maxGens]),xlim=(0,maxTimeTC),xticks = (0:60*24:maxTimeTC, string.(0:24:Int64(maxTimeTC))))\n",
    "    differenceFromExpected=actualResult.-expectedIfAdditive\n",
    "    p6=plot([1:maxTimeTC], differenceFromExpected)\n",
    "    plot!(p6,size=(900,400),layout = grid(3, 1,heights=[0.8,0.1,0.1]),title=\"[actual combo] - [additive prediction]\",ylabel=\"cell number over WT\",xlabel=\"time (h)\",labels=string.([1:maxGens]),xlim=(0,maxTimeTC),xticks = (0:60*24:maxTimeTC, string.(0:24:Int64(maxTimeTC))),legend=true)\n",
    "    thisPlot=plot(p7,p5,size=(900,600),layout = grid(2, 1,heights=[0.5,0.5]))\n",
    "    display(thisPlot)\n",
    "end"
   ]
  },
  {
   "cell_type": "code",
   "execution_count": null,
   "id": "ff76aace",
   "metadata": {},
   "outputs": [],
   "source": [
    "DLBCL_LS297 = getPatConds(\"DLBCL-LS297\")"
   ]
  },
  {
   "cell_type": "code",
   "execution_count": null,
   "id": "6f6d3a00",
   "metadata": {
    "scrolled": true
   },
   "outputs": [],
   "source": [
    "## import patient list\n",
    "patients_withOS = DataFrame(CSV.File(\"patient_OS_data.csv\"))\n",
    "patients_withOS = patients_withOS[!, :patient_ID]"
   ]
  },
  {
   "cell_type": "code",
   "execution_count": null,
   "id": "42ba92f6",
   "metadata": {},
   "outputs": [],
   "source": [
    "DLBCL_LS1546[1][1]"
   ]
  },
  {
   "cell_type": "code",
   "execution_count": null,
   "id": "91185f84",
   "metadata": {},
   "outputs": [],
   "source": [
    "DLBCL_LS1546[1]"
   ]
  },
  {
   "cell_type": "code",
   "execution_count": null,
   "id": "369584d2",
   "metadata": {},
   "outputs": [],
   "source": [
    "param_mut"
   ]
  },
  {
   "cell_type": "code",
   "execution_count": null,
   "id": "3acb5844",
   "metadata": {},
   "outputs": [],
   "source": [
    "folderToPlot = \"SSDoutputs/DHx5_constantIKK\"\n",
    "conditions=[\"WT\", \"Myc_x5\", \"Bcl2_x5\", \"double hit\"]\n",
    "compareCellNumbersRelative(conditions,folderToPlot,2)"
   ]
  },
  {
   "cell_type": "code",
   "execution_count": null,
   "id": "3f6f88dd",
   "metadata": {},
   "outputs": [],
   "source": [
    "folderToPlot = \"SSDoutputs/allMutSims/first_run/DLBCL-DFCI_DLBCL_GOE07\"\n",
    "conditions=[\"all_mut\"]\n",
    "compareCellNumbersRelative(conditions,folderToPlot,1)"
   ]
  },
  {
   "cell_type": "code",
   "execution_count": null,
   "id": "e34cba9d",
   "metadata": {},
   "outputs": [],
   "source": [
    "function CellNumbers(patient)\n",
    "                \n",
    "        pathToPlot=\"SSDoutputs/allMutSims/\"*patient*\"/all_mut/\"\n",
    "    \n",
    "        WTorder=nothing\n",
    "        WTyIndexes=[]\n",
    "        thisCondScalar=0;\n",
    "        WTArrayCellCountArray=[]\n",
    "        synergyArray=[]\n",
    "\n",
    "        #define some files to plot\n",
    "        treeArrayFile=pathToPlot*\"treeStructure.csv\"\n",
    "        cellCountFileName=pathToPlot*\"cellCounts.csv\"\n",
    "        graphingArray=CSV.File(treeArrayFile,types=Float64, silencewarnings=true) |> Tables.matrix\n",
    "\n",
    "        cellCountArray=zeros(maxGens,Int64(maxTimeTC))\n",
    "\n",
    "        #first we need to sort by number of generations reached\n",
    "        order=sortperm(graphingArray[:, end])\n",
    "        \n",
    "        WTorder=order\n",
    "        graphingArray=graphingArray[order, :]\n",
    "        \n",
    "        nextYCoord=0\n",
    "        #now we need to go through each\n",
    "        for i in 1:size(graphingArray,1)\n",
    "            thisCellMaxGen=Int64(graphingArray[i,end])\n",
    "            cellsInThisCellMaxGen=2^(thisCellMaxGen)-1\n",
    "            #nextYCoord=nextYCoord+cellsInThisCellMaxGen\n",
    "            nextYCoord=nextYCoord+cellsInThisCellMaxGen\n",
    "            middle=nextYCoord+1+cellsInThisCellMaxGen/2\n",
    "            append!(WTyIndexes,middle+10)\n",
    "\n",
    "            lastGenEnd=1\n",
    "            nextGenMiddles=[]\n",
    "            for thisGen in 1:thisCellMaxGen\n",
    "                cellsInThisGen=2^(thisGen-1)\n",
    "                stepSizePerCell=cellsInThisCellMaxGen/(cellsInThisGen-1)\n",
    "                thisGenFateTime=graphingArray[i,thisGen]\n",
    "                thisGenMiddles=copy(nextGenMiddles)\n",
    "                cellCountArray[thisGen,Int64(round(lastGenEnd)):Int64(round(thisGenFateTime))-1]=cellCountArray[thisGen,Int64(round(lastGenEnd)):Int64(round(thisGenFateTime))-1].+cellsInThisGen\n",
    "                lastGenEnd=graphingArray[i,thisGen]\n",
    "            end  \n",
    "            nextYCoord=nextYCoord+maximum([cellsInThisCellMaxGen,10])\n",
    "        end\n",
    "        originalCellCountArray=copy(cellCountArray)\n",
    "        WTArrayCellCountArray=copy(cellCountArray)\n",
    "        #println(WTArrayCellCountArray)\n",
    "        cellCountArray.=0\n",
    "        synergyArray=zeros(0,Int64(maxTimeTC))\n",
    "\n",
    "        totalCountForPlotting=sum(originalCellCountArray,dims=1)\n",
    "        #totalCount=sum(cellCountArray,dims=1)\n",
    "        maxCells = maximum(totalCountForPlotting)\n",
    "        return(maxCells)\n",
    "end"
   ]
  },
  {
   "cell_type": "code",
   "execution_count": null,
   "id": "afe8fc48",
   "metadata": {
    "scrolled": true
   },
   "outputs": [],
   "source": [
    "patient_OS = DataFrame(CSV.File(\"patient_OS_data.csv\"))"
   ]
  },
  {
   "cell_type": "code",
   "execution_count": null,
   "id": "3b36a2cb",
   "metadata": {
    "scrolled": true
   },
   "outputs": [],
   "source": [
    "patient_status = DataFrame(CSV.File(\"patient_status_data.csv\"))"
   ]
  },
  {
   "cell_type": "code",
   "execution_count": null,
   "id": "fd2c83cb",
   "metadata": {
    "scrolled": true
   },
   "outputs": [],
   "source": [
    "patient_OS_stat = innerjoin(patient_OS, patient_status, on = :patient_ID)"
   ]
  },
  {
   "cell_type": "code",
   "execution_count": null,
   "id": "30033864",
   "metadata": {
    "scrolled": true
   },
   "outputs": [],
   "source": [
    "patientSims = readdir(\"SSDoutputs/allMutSims/\")\n",
    "setdiff!(patientSims, [\"first_run\"])"
   ]
  },
  {
   "cell_type": "code",
   "execution_count": null,
   "id": "31f4cd2d",
   "metadata": {
    "scrolled": true
   },
   "outputs": [],
   "source": [
    "patientSimsOS = patient_OS_stat[in.(patient_OS_stat[!, :patient_ID], [patientSims]),:]"
   ]
  },
  {
   "cell_type": "code",
   "execution_count": null,
   "id": "099f0db6",
   "metadata": {
    "scrolled": true
   },
   "outputs": [],
   "source": [
    "patients_OS_CN = DataFrame(OS=Int64[], patient_ID=Any[], Status=Any[], CN=Int64[])"
   ]
  },
  {
   "cell_type": "code",
   "execution_count": null,
   "id": "5b0efc6f",
   "metadata": {},
   "outputs": [],
   "source": [
    "for i in 1:nrow(patientSimsOS)\n",
    "    patOSdf = DataFrame(patientSimsOS[i, 1:3])\n",
    "    patient = patOSdf[:, :patient_ID]\n",
    "    CN = CellNumbers(patient[1])\n",
    "    patOSdf[!, :CN] = [CN]\n",
    "    append!(patients_OS_CN, patOSdf)\n",
    "end    "
   ]
  },
  {
   "cell_type": "code",
   "execution_count": null,
   "id": "06114381",
   "metadata": {
    "scrolled": true
   },
   "outputs": [],
   "source": [
    "patients_OS_CN"
   ]
  },
  {
   "cell_type": "code",
   "execution_count": null,
   "id": "89d16d1e",
   "metadata": {
    "scrolled": true
   },
   "outputs": [],
   "source": [
    "sort!(patients_OS_CN, :OS)"
   ]
  },
  {
   "cell_type": "code",
   "execution_count": null,
   "id": "5d33a7a9",
   "metadata": {},
   "outputs": [],
   "source": [
    "CSV.write(\"lowOS_res.csv\", patients_OS_CN)"
   ]
  },
  {
   "cell_type": "code",
   "execution_count": null,
   "id": "9d1d4534",
   "metadata": {},
   "outputs": [],
   "source": [
    "using Pkg\n",
    "Pkg.add(\"StatsPlots\") \n",
    "using StatsPlots, KernelDensity"
   ]
  },
  {
   "cell_type": "code",
   "execution_count": null,
   "id": "76e2b964",
   "metadata": {},
   "outputs": [],
   "source": [
    "dens = kde((patients_OS_CN[:, :OS],patients_OS_CN[:, :CN]))\n",
    "plot(dens)"
   ]
  },
  {
   "cell_type": "code",
   "execution_count": null,
   "id": "a36665bd",
   "metadata": {
    "scrolled": true
   },
   "outputs": [],
   "source": [
    "patients_OS_CN"
   ]
  },
  {
   "cell_type": "code",
   "execution_count": null,
   "id": "c642d281",
   "metadata": {
    "scrolled": true
   },
   "outputs": [],
   "source": [
    "patients_OS_CN = subset(patients_OS_CN, :CN => ByRow(>(0)))"
   ]
  },
  {
   "cell_type": "code",
   "execution_count": null,
   "id": "19cb68e7",
   "metadata": {},
   "outputs": [],
   "source": [
    "plot(patients_OS_CN[:, :OS], patients_OS_CN[:, :CN], \n",
    "        seriestype=:scatter, \n",
    "        ylab=\"peak cell number\", \n",
    "        xlab=\"OS\",\n",
    "        group=patients_OS_CN[:, :Status],\n",
    "        labels = [\"living\" \"deceased\"],\n",
    "        ylim=(0, 3e3),\n",
    "        xlim=(0, 160))"
   ]
  },
  {
   "cell_type": "code",
   "execution_count": null,
   "id": "6ce2c6dc",
   "metadata": {
    "scrolled": true
   },
   "outputs": [],
   "source": [
    "lowOS_res = subset(patients_OS_CN, :OS => ByRow(<=(35)))"
   ]
  },
  {
   "cell_type": "code",
   "execution_count": null,
   "id": "65b8533a",
   "metadata": {},
   "outputs": [],
   "source": [
    "### run all code together\n",
    "patientSims = readdir(\"SSDoutputs/allMutSims/\")\n",
    "setdiff!(patientSims, [\"first_run\"])\n",
    "patientSimsOS = patient_OS_stat[in.(patient_OS_stat[!, :patient_ID], [patientSims]),:]\n",
    "patients_OS_CN = DataFrame(OS=Int64[], patient_ID=Any[], Status=Any[], CN=Int64[])\n",
    "for i in 1:nrow(patientSimsOS)\n",
    "    patOSdf = DataFrame(patientSimsOS[i, 1:3])\n",
    "    patient = patOSdf[:, :patient_ID]\n",
    "    CN = CellNumbers(patient[1])\n",
    "    patOSdf[!, :CN] = [CN]\n",
    "    append!(patients_OS_CN, patOSdf)\n",
    "end    \n",
    "plot(patients_OS_CN[:, :OS], patients_OS_CN[:, :CN], \n",
    "        seriestype=:scatter, \n",
    "        ylab=\"peak cell number\", \n",
    "        xlab=\"OS\",\n",
    "        group=patients_OS_CN[:, :Status],\n",
    "        labels = [\"living\" \"deceased\"],\n",
    "       )"
   ]
  },
  {
   "cell_type": "code",
   "execution_count": null,
   "id": "069ab04e",
   "metadata": {},
   "outputs": [],
   "source": [
    "CSV.write(\"OS_CN_res.csv\", patients_OS_CN)"
   ]
  },
  {
   "cell_type": "code",
   "execution_count": null,
   "id": "48a03a24",
   "metadata": {
    "scrolled": true
   },
   "outputs": [],
   "source": [
    "patients_OS_CN"
   ]
  },
  {
   "cell_type": "code",
   "execution_count": null,
   "id": "a402eb4c",
   "metadata": {},
   "outputs": [],
   "source": [
    "CSV.write(\"patients_OS_CN\", patients_OS_CN)"
   ]
  },
  {
   "cell_type": "code",
   "execution_count": null,
   "id": "8747f204",
   "metadata": {
    "scrolled": true
   },
   "outputs": [],
   "source": [
    "lowOS_res = subset(lowOS_res, :CN => ByRow(>(0)))"
   ]
  },
  {
   "cell_type": "code",
   "execution_count": null,
   "id": "12ed4f81",
   "metadata": {},
   "outputs": [],
   "source": [
    "sort!(lowOS_res, :OS)"
   ]
  },
  {
   "cell_type": "code",
   "execution_count": null,
   "id": "89704829",
   "metadata": {},
   "outputs": [],
   "source": [
    "CSV.write(\"lowOS_res.csv\", patients_OS_CN)"
   ]
  },
  {
   "cell_type": "code",
   "execution_count": null,
   "id": "e399db65",
   "metadata": {},
   "outputs": [],
   "source": [
    "model = lm(@formula(y ~ x), df)"
   ]
  },
  {
   "cell_type": "code",
   "execution_count": null,
   "id": "4dcb4ea0",
   "metadata": {},
   "outputs": [],
   "source": [
    "plot(lowOS_res[:, :OS], lowOS_res[:, :CN], \n",
    "        seriestype=:scatter, \n",
    "        ylab=\"peak cell number\", \n",
    "        xlab=\"OS\",\n",
    "        legend=false,\n",
    "        smooth=true)"
   ]
  },
  {
   "cell_type": "code",
   "execution_count": null,
   "id": "b6e7b202",
   "metadata": {
    "scrolled": true
   },
   "outputs": [],
   "source": [
    "patient_CoO = DataFrame(CSV.File(\"patient_CoO.csv\"))"
   ]
  },
  {
   "cell_type": "code",
   "execution_count": null,
   "id": "7648b4ac",
   "metadata": {},
   "outputs": [],
   "source": [
    "patientsSims2 = patients_OS_CN[!, :patient_ID]"
   ]
  },
  {
   "cell_type": "code",
   "execution_count": null,
   "id": "958221a3",
   "metadata": {
    "scrolled": true
   },
   "outputs": [],
   "source": [
    "patientSims_CoO = patient_CoO[in.(patient_CoO[!, :patient_ID], [patientsSims2]),:]"
   ]
  },
  {
   "cell_type": "code",
   "execution_count": null,
   "id": "96347f86",
   "metadata": {
    "scrolled": true
   },
   "outputs": [],
   "source": [
    "patient_OSCNCoO = innerjoin(patients_OS_CN, patientSims_CoO, on = :patient_ID)"
   ]
  },
  {
   "cell_type": "code",
   "execution_count": null,
   "id": "466162e0",
   "metadata": {
    "scrolled": true
   },
   "outputs": [],
   "source": [
    "patient_ABCGC = subset(patient_OSCNCoO, :CoO => ByRow(!=(\"DLBCLNOS\")))"
   ]
  },
  {
   "cell_type": "code",
   "execution_count": null,
   "id": "5a7d1b3e",
   "metadata": {},
   "outputs": [],
   "source": [
    "plot(patient_OSCNCoO[:, :OS], patient_OSCNCoO[:, :CN], \n",
    "        seriestype=:scatter, \n",
    "        ylab=\"peak cell number\", \n",
    "        xlab=\"OS\",\n",
    "        group=patient_OSCNCoO[:, :CoO],\n",
    "        ylim=(0, 3e3),\n",
    "        xlim=(0, 160),\n",
    "        size=(700,500),\n",
    "        smooth=true)"
   ]
  },
  {
   "cell_type": "code",
   "execution_count": null,
   "id": "d4176d96",
   "metadata": {},
   "outputs": [],
   "source": [
    "plot(patient_ABCGC[:, :OS], patient_ABCGC[:, :CN], \n",
    "        seriestype=:scatter, \n",
    "        ylab=\"peak cell number\", \n",
    "        xlab=\"OS\",\n",
    "        group=patient_ABCGC[:, :CoO],\n",
    "        ylim=(0, 3e3),\n",
    "        xlim=(0, 160),\n",
    "        size=(700,500),\n",
    "        smooth=true)"
   ]
  },
  {
   "cell_type": "code",
   "execution_count": null,
   "id": "395e8ded",
   "metadata": {
    "scrolled": true
   },
   "outputs": [],
   "source": [
    "sort(patients_OS_CN, :OS)"
   ]
  },
  {
   "cell_type": "code",
   "execution_count": null,
   "id": "edd40637",
   "metadata": {},
   "outputs": [],
   "source": [
    "CSV.write(\"patients_OS_CN.csv\", patients_OS_CN)"
   ]
  },
  {
   "cell_type": "code",
   "execution_count": null,
   "id": "6b1e4519",
   "metadata": {
    "scrolled": true
   },
   "outputs": [],
   "source": [
    "patientswithOS = patients_OS_CN[!, :patient_ID]"
   ]
  },
  {
   "cell_type": "code",
   "execution_count": null,
   "id": "d4634227",
   "metadata": {
    "scrolled": true
   },
   "outputs": [],
   "source": [
    "patients_noOS = setdiff!(patientSims, patientswithOS)\n",
    "show(stdout, \"text/plain\", patients_noOS)"
   ]
  },
  {
   "cell_type": "code",
   "execution_count": null,
   "id": "6b2b7a79",
   "metadata": {},
   "outputs": [],
   "source": [
    "function plotPat_varIKK(patient_name)\n",
    "    \n",
    "    # get data for individual patient\n",
    "    patient_df = subset(patient_data, :PATIENT => ByRow(==(patient_name))) \n",
    "    \n",
    "    # get genes\n",
    "    genes = Vector(patient_df[!, :GENE])\n",
    "    \n",
    "    # set conditions\n",
    "    n = nrow(patient_df)\n",
    "    \n",
    "    if n==2\n",
    "            conditions= [\"WT\", patient_df[!, :GENE][1], patient_df[!, :GENE][2], \"all_mut\"]\n",
    "        elseif n==3 \n",
    "            conditions= [\"WT\", patient_df[!, :GENE][1], patient_df[!, :GENE][2],\n",
    "                        patient_df[!, :GENE][3], \"all_mut\"]\n",
    "        elseif n==4 \n",
    "            conditions= [\"WT\", patient_df[!, :GENE][1], patient_df[!, :GENE][2],\n",
    "                        patient_df[!, :GENE][3], patient_df[!, :GENE][4], \"all_mut\"]\n",
    "        elseif n==5 \n",
    "            conditions= [\"WT\", patient_df[!, :GENE][1], patient_df[!, :GENE][2],\n",
    "                        patient_df[!, :GENE][3], patient_df[!, :GENE][4],\n",
    "                        patient_df[!, :GENE][5], \"all_mut\"]\n",
    "        elseif n==6 \n",
    "            conditions= [\"WT\", patient_df[!, :GENE][1], patient_df[!, :GENE][2],\n",
    "                        patient_df[!, :GENE][3], patient_df[!, :GENE][4],\n",
    "                        patient_df[!, :GENE][5], patient_df[!, :GENE][6], \"all_mut\"]\n",
    "    end\n",
    "    \n",
    "    folderToPlot = \"SSDoutputs/DLBCL_patient_modelling/loopSims/varIKK/\"*patient_name\n",
    "    \n",
    "    compareCellNumbersRelative(conditions,folderToPlot,n)\n",
    "end"
   ]
  },
  {
   "cell_type": "code",
   "execution_count": null,
   "id": "4d167506",
   "metadata": {},
   "outputs": [],
   "source": [
    "folderToPlot = \"SSDoutputs/DLBCL_patient_modelling/paper/DLBCL-LS2599\"\n",
    "conditions=[\"WT\", \"PARP1\", \"MCL1\", \"CCNB1\", \"CYCS\", \"PRDM1\", \"all_mut\"]\n",
    "compareCellNumbersRelative(conditions,folderToPlot,5)"
   ]
  },
  {
   "cell_type": "code",
   "execution_count": null,
   "id": "9af4aee0",
   "metadata": {},
   "outputs": [],
   "source": [
    "folderToPlot = \"SSDoutputs/DLBCL_patient_modelling/paper/DLBCL-LS2599inhib\"\n",
    "conditions=[\"WT\", \"noPARP1\", \"noMCL1\", \"noCCNB1\", \"noCYCS\", \"noPRDM1\", \"all_mut\"]\n",
    "compareCellNumbersRelative(conditions,folderToPlot,5)"
   ]
  },
  {
   "cell_type": "code",
   "execution_count": null,
   "id": "31ce2b80",
   "metadata": {},
   "outputs": [],
   "source": [
    "folderToPlot = \"SSDoutputs/DLBCL_patient_modelling/DLBCL-LS148incmut\"\n",
    "conditions=[\"WT\", \"MCL1-BCL2\", \"PARP1\", \"all_mut\"]\n",
    "compareCellNumbersRelative(conditions,folderToPlot,2)"
   ]
  },
  {
   "cell_type": "code",
   "execution_count": null,
   "id": "d0a494d4",
   "metadata": {},
   "outputs": [],
   "source": [
    "folderToPlot = \"SSDoutputs/DLBCL_patient_modelling/DLBCL-LS4619incmut\"\n",
    "conditions=[\"WT\", \"REL\", \"PRDM1\", \"all_mut\"]\n",
    "compareCellNumbersRelative(conditions,folderToPlot,2)"
   ]
  },
  {
   "cell_type": "code",
   "execution_count": null,
   "id": "8bae6f8f",
   "metadata": {},
   "outputs": [],
   "source": [
    "folderToPlot = \"SSDoutputs/DLBCL_patient_modelling/DLBCL-LS1546incmut\"\n",
    "conditions=[\"WT\", \"BCL2\", \"PRDM1\", \"CDKN1B\", \"PAX5_KO\", \"all_mut\"]\n",
    "compareCellNumbersRelative(conditions,folderToPlot,4)"
   ]
  },
  {
   "cell_type": "code",
   "execution_count": null,
   "id": "381ed9bc",
   "metadata": {},
   "outputs": [],
   "source": [
    "folderToPlot = \"SSDoutputs/DLBCL_patient_modelling/DLBCL-RICOVER_496incmut\"\n",
    "conditions=[\"WT\", \"PARP1\", \"MCL1\", \"CASP3\", \"MYC++\", \"all_mut\"]\n",
    "compareCellNumbersRelative(conditions,folderToPlot,4)"
   ]
  },
  {
   "cell_type": "code",
   "execution_count": null,
   "id": "811cde55",
   "metadata": {},
   "outputs": [],
   "source": [
    "folderToPlot = \"SSDoutputs/DLBCL_patient_modelling/DLBCL-RICOVER_1106incmut\"\n",
    "conditions=[\"WT\", \"BAX\", \"BCL2\", \"CCNE1\", \"NFKBIB\", \"IRF8+\", \"all_mut\"]\n",
    "compareCellNumbersRelative(conditions,folderToPlot,5)"
   ]
  },
  {
   "cell_type": "code",
   "execution_count": null,
   "id": "76981f00",
   "metadata": {},
   "outputs": [],
   "source": [
    "folderToPlot = \"SSDoutputs/DLBCL_patient_modelling/DLBCL-RICOVER_1169incmut\"\n",
    "conditions=[\"WT\", \"MCL1\", \"PARP1\", \"REL\", \"BCORmut\", \"all_mut\"]\n",
    "compareCellNumbersRelative(conditions,folderToPlot,4)"
   ]
  },
  {
   "cell_type": "code",
   "execution_count": null,
   "id": "be56abcc",
   "metadata": {
    "scrolled": false
   },
   "outputs": [],
   "source": [
    "plotPat_varIKK(\"DLBCL-RICOVER_1263\")"
   ]
  },
  {
   "cell_type": "code",
   "execution_count": null,
   "id": "cf81167e",
   "metadata": {},
   "outputs": [],
   "source": [
    "plotPat_varIKK(\"DLBCL-LS2599\")"
   ]
  },
  {
   "cell_type": "code",
   "execution_count": null,
   "id": "94c53ab1",
   "metadata": {},
   "outputs": [],
   "source": []
  }
 ],
 "metadata": {
  "kernelspec": {
   "display_name": "Julia 1.6.2",
   "language": "julia",
   "name": "julia-1.6"
  },
  "language_info": {
   "file_extension": ".jl",
   "mimetype": "application/julia",
   "name": "julia",
   "version": "1.6.2"
  }
 },
 "nbformat": 4,
 "nbformat_minor": 5
}
